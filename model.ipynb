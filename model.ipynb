{
 "cells": [
  {
   "cell_type": "code",
   "execution_count": 89,
   "metadata": {},
   "outputs": [],
   "source": [
    "import pandas as pd\n",
    "\n",
    "file_path = \"./output3.csv\"\n",
    "df = pd.read_csv(file_path)"
   ]
  },
  {
   "cell_type": "code",
   "execution_count": 90,
   "metadata": {},
   "outputs": [],
   "source": [
    "df.drop(columns=['address'], inplace=True)"
   ]
  },
  {
   "cell_type": "code",
   "execution_count": 91,
   "metadata": {},
   "outputs": [
    {
     "name": "stdout",
     "output_type": "stream",
     "text": [
      "53106\n",
      "13829\n"
     ]
    }
   ],
   "source": [
    "apartment_count = 0\n",
    "house_count = 0\n",
    "for index, row in df.iterrows():\n",
    "    # Check the value of the 'apartment_or_house' column\n",
    "    if row['apartment_or_house'] == \"house\":\n",
    "        # If it's 'house', replace it with 1\n",
    "        df.at[index, 'apartment_or_house'] = 1\n",
    "        house_count += 1\n",
    "    elif row['apartment_or_house'] == \"apartment\":\n",
    "        # If it's 'apartment', replace it with 0\n",
    "        df.at[index, 'apartment_or_house'] = 0\n",
    "        apartment_count += 1\n",
    "    \n",
    "\n",
    "print(apartment_count)\n",
    "print(house_count)"
   ]
  },
  {
   "cell_type": "code",
   "execution_count": 92,
   "metadata": {},
   "outputs": [],
   "source": [
    "#Need to drop anything that isn't call for rent\n",
    "df = df[pd.to_numeric(df['price'], errors='coerce').notnull()]\n",
    "df = df[pd.to_numeric(df['rooms'], errors='coerce').notnull()]\n",
    "df = df[pd.to_numeric(df['bathrooms'], errors='coerce').notnull()]\n",
    "df = df[pd.to_numeric(df['sqft'], errors='coerce').notnull()]\n",
    "df = df[pd.to_numeric(df['apartment_or_house'], errors='coerce').notnull()]\n",
    "\n",
    "# Convert 'price' column to numeric\n",
    "df['price'] = pd.to_numeric(df['price'])\n",
    "df['rooms'] = pd.to_numeric(df['rooms'])\n",
    "df['bathrooms'] = pd.to_numeric(df['bathrooms'])\n",
    "df['sqft'] = pd.to_numeric(df['sqft'])\n",
    "df[\"apartment_or_house\"] = pd.to_numeric(df[\"apartment_or_house\"])"
   ]
  },
  {
   "cell_type": "code",
   "execution_count": 93,
   "metadata": {},
   "outputs": [
    {
     "name": "stdout",
     "output_type": "stream",
     "text": [
      "<class 'pandas.core.frame.DataFrame'>\n",
      "Index: 66822 entries, 1 to 66935\n",
      "Data columns (total 5 columns):\n",
      " #   Column              Non-Null Count  Dtype  \n",
      "---  ------              --------------  -----  \n",
      " 0   price               66822 non-null  int64  \n",
      " 1   rooms               66822 non-null  int64  \n",
      " 2   bathrooms           66822 non-null  float64\n",
      " 3   sqft                66822 non-null  float64\n",
      " 4   apartment_or_house  66822 non-null  int64  \n",
      "dtypes: float64(2), int64(3)\n",
      "memory usage: 3.1 MB\n",
      "None\n",
      "apartment_or_house\n",
      "0    52995\n",
      "1    13827\n",
      "Name: count, dtype: int64\n"
     ]
    }
   ],
   "source": [
    "temp_df = df.drop(columns='city')\n",
    "print(temp_df.info())\n",
    "\n",
    "counts = df['apartment_or_house'].value_counts()\n",
    "print(counts)"
   ]
  },
  {
   "cell_type": "code",
   "execution_count": 94,
   "metadata": {},
   "outputs": [
    {
     "name": "stdout",
     "output_type": "stream",
     "text": [
      "Feature-Target Correlations:\n",
      "rooms                 0.373046\n",
      "bathrooms             0.419781\n",
      "sqft                  0.185978\n",
      "apartment_or_house    0.531489\n",
      "Name: price, dtype: float64\n"
     ]
    }
   ],
   "source": [
    "df = df.drop(columns=['city'])\n",
    "\n",
    "# Calculate Pearson correlation coefficients\n",
    "correlation_matrix = df.corr().abs()\n",
    "\n",
    "# Extract correlations with the target variable\n",
    "feature_target_correlations = correlation_matrix['price'].drop('price')\n",
    "\n",
    "# Print feature-target correlations\n",
    "print(\"Feature-Target Correlations:\")\n",
    "print(feature_target_correlations)"
   ]
  },
  {
   "cell_type": "code",
   "execution_count": 22,
   "metadata": {},
   "outputs": [
    {
     "ename": "NameError",
     "evalue": "name 'data' is not defined",
     "output_type": "error",
     "traceback": [
      "\u001b[1;31m---------------------------------------------------------------------------\u001b[0m",
      "\u001b[1;31mNameError\u001b[0m                                 Traceback (most recent call last)",
      "Cell \u001b[1;32mIn[22], line 6\u001b[0m\n\u001b[0;32m      1\u001b[0m \u001b[38;5;28;01mfrom\u001b[39;00m \u001b[38;5;21;01msklearn\u001b[39;00m\u001b[38;5;21;01m.\u001b[39;00m\u001b[38;5;21;01mpreprocessing\u001b[39;00m \u001b[38;5;28;01mimport\u001b[39;00m LabelEncoder\n\u001b[0;32m      2\u001b[0m \u001b[38;5;66;03m# Preprocessing\u001b[39;00m\n\u001b[0;32m      3\u001b[0m \u001b[38;5;66;03m# Assuming 'city', 'price', 'rooms', 'bathrooms', 'sqft' are columns in your DataFrame\u001b[39;00m\n\u001b[0;32m      4\u001b[0m \u001b[38;5;66;03m# Convert categorical features to numerical representations\u001b[39;00m\n\u001b[0;32m      5\u001b[0m \u001b[38;5;66;03m# Iterate over the DataFrame rows\u001b[39;00m\n\u001b[1;32m----> 6\u001b[0m \u001b[38;5;28;01mfor\u001b[39;00m index, row \u001b[38;5;129;01min\u001b[39;00m \u001b[43mdata\u001b[49m\u001b[38;5;241m.\u001b[39miterrows():\n\u001b[0;32m      7\u001b[0m     \u001b[38;5;66;03m# Check the value of the 'apartment_or_house' column\u001b[39;00m\n\u001b[0;32m      8\u001b[0m     \u001b[38;5;28;01mif\u001b[39;00m row[\u001b[38;5;124m'\u001b[39m\u001b[38;5;124mapartment_or_house\u001b[39m\u001b[38;5;124m'\u001b[39m] \u001b[38;5;241m==\u001b[39m \u001b[38;5;124m\"\u001b[39m\u001b[38;5;124mhouse\u001b[39m\u001b[38;5;124m\"\u001b[39m:\n\u001b[0;32m      9\u001b[0m         \u001b[38;5;66;03m# If it's 'house', replace it with 1\u001b[39;00m\n\u001b[0;32m     10\u001b[0m         data\u001b[38;5;241m.\u001b[39mat[index, \u001b[38;5;124m'\u001b[39m\u001b[38;5;124mapartment_or_house\u001b[39m\u001b[38;5;124m'\u001b[39m] \u001b[38;5;241m=\u001b[39m \u001b[38;5;241m1\u001b[39m\n",
      "\u001b[1;31mNameError\u001b[0m: name 'data' is not defined"
     ]
    }
   ],
   "source": [
    "from sklearn.preprocessing import LabelEncoder\n",
    "\n",
    "\n",
    "# for col in ['city', 'apartment_or_house']:\n",
    "#     le = LabelEncoder()\n",
    "#     df[col] = le.fit_transform(df[col].astype(str))\n",
    "#     label_encoders[col] = le\n",
    "#     print(label_encoders)\n",
    "\n",
    "\n",
    "\n",
    "print(df['city'].unique())\n",
    "\n"
   ]
  },
  {
   "cell_type": "code",
   "execution_count": 48,
   "metadata": {},
   "outputs": [
    {
     "name": "stdout",
     "output_type": "stream",
     "text": [
      "<class 'pandas.core.frame.DataFrame'>\n",
      "Index: 52995 entries, 0 to 53105\n",
      "Data columns (total 5 columns):\n",
      " #   Column              Non-Null Count  Dtype  \n",
      "---  ------              --------------  -----  \n",
      " 0   city                52995 non-null  int32  \n",
      " 1   rooms               52995 non-null  int64  \n",
      " 2   bathrooms           52995 non-null  float64\n",
      " 3   sqft                52995 non-null  float64\n",
      " 4   apartment_or_house  52995 non-null  int32  \n",
      "dtypes: float64(2), int32(2), int64(1)\n",
      "memory usage: 2.0 MB\n",
      "None\n",
      "Accuracy: 0.04066421360505708\n"
     ]
    }
   ],
   "source": [
    "from sklearn.model_selection import train_test_split\n",
    "from sklearn.naive_bayes import GaussianNB\n",
    "\n",
    "from sklearn.impute import SimpleImputer\n",
    "from sklearn.metrics import accuracy_score\n",
    "from sklearn import preprocessing\n",
    "import pandas as pd\n",
    "\n",
    "\n",
    "\n",
    "# Handle missing values if any\n",
    "imputer = SimpleImputer(strategy='mean')\n",
    "df['sqft'] = imputer.fit_transform(df['sqft'].values.reshape(-1, 1))\n",
    "\n",
    "# Split data into train and test sets\n",
    "X = df.drop(columns=['price'])  # Features\n",
    "print(X.info())\n",
    "y = df['price']  # Target variable\n",
    "X_train, X_test, y_train, y_test = train_test_split(X, y, test_size=0.2, random_state=42)\n",
    "\n",
    "# Train the Gaussian NB model\n",
    "model = GaussianNB()\n",
    "model.fit(X_train, y_train)\n",
    "\n",
    "# Predictions\n",
    "y_pred = model.predict(X_test)\n",
    "\n",
    "# Evaluate the model\n",
    "accuracy = accuracy_score(y_test, y_pred)\n",
    "print(\"Accuracy:\", accuracy)"
   ]
  },
  {
   "cell_type": "code",
   "execution_count": 25,
   "metadata": {},
   "outputs": [
    {
     "name": "stdout",
     "output_type": "stream",
     "text": [
      "Epoch 1/50\n",
      "1339/1339 [==============================] - 5s 3ms/step - loss: 2425617.5000 - val_loss: 1631576.7500\n",
      "Epoch 2/50\n",
      "1339/1339 [==============================] - 4s 3ms/step - loss: 1600854.8750 - val_loss: 1589783.3750\n",
      "Epoch 3/50\n",
      "1339/1339 [==============================] - 4s 3ms/step - loss: 1576215.7500 - val_loss: 1578907.7500\n",
      "Epoch 4/50\n",
      "1339/1339 [==============================] - 4s 3ms/step - loss: 1567890.3750 - val_loss: 1572773.6250\n",
      "Epoch 5/50\n",
      "1339/1339 [==============================] - 4s 3ms/step - loss: 1563805.2500 - val_loss: 1571341.2500\n",
      "Epoch 6/50\n",
      "1339/1339 [==============================] - 4s 3ms/step - loss: 1561428.6250 - val_loss: 1569752.1250\n",
      "Epoch 7/50\n",
      "1339/1339 [==============================] - 4s 3ms/step - loss: 1559805.2500 - val_loss: 1570029.5000\n",
      "Epoch 8/50\n",
      "1339/1339 [==============================] - 4s 3ms/step - loss: 1559265.7500 - val_loss: 1568459.8750\n",
      "Epoch 9/50\n",
      "1339/1339 [==============================] - 4s 3ms/step - loss: 1558110.7500 - val_loss: 1567297.6250\n",
      "Epoch 10/50\n",
      "1339/1339 [==============================] - 4s 3ms/step - loss: 1557118.6250 - val_loss: 1567732.3750\n",
      "Epoch 11/50\n",
      "1339/1339 [==============================] - 4s 3ms/step - loss: 1556684.0000 - val_loss: 1567289.7500\n",
      "Epoch 12/50\n",
      "1339/1339 [==============================] - 4s 3ms/step - loss: 1555911.3750 - val_loss: 1566280.6250\n",
      "Epoch 13/50\n",
      "1339/1339 [==============================] - 4s 3ms/step - loss: 1555395.2500 - val_loss: 1565603.8750\n",
      "Epoch 14/50\n",
      "1339/1339 [==============================] - 4s 3ms/step - loss: 1555077.8750 - val_loss: 1566428.0000\n",
      "Epoch 15/50\n",
      "1339/1339 [==============================] - 4s 3ms/step - loss: 1554903.8750 - val_loss: 1566412.7500\n",
      "Epoch 16/50\n",
      "1339/1339 [==============================] - 4s 3ms/step - loss: 1554223.7500 - val_loss: 1566022.3750\n",
      "Epoch 17/50\n",
      "1339/1339 [==============================] - 4s 3ms/step - loss: 1554192.1250 - val_loss: 1565087.1250\n",
      "Epoch 18/50\n",
      "1339/1339 [==============================] - 4s 3ms/step - loss: 1554011.6250 - val_loss: 1565826.3750\n",
      "Epoch 19/50\n",
      "1339/1339 [==============================] - 4s 3ms/step - loss: 1553689.0000 - val_loss: 1566456.2500\n",
      "Epoch 20/50\n",
      "1339/1339 [==============================] - 4s 3ms/step - loss: 1553099.8750 - val_loss: 1565341.1250\n",
      "Epoch 21/50\n",
      "1339/1339 [==============================] - 4s 3ms/step - loss: 1553194.6250 - val_loss: 1564350.2500\n",
      "Epoch 22/50\n",
      "1339/1339 [==============================] - 4s 3ms/step - loss: 1552958.0000 - val_loss: 1565898.7500\n",
      "Epoch 23/50\n",
      "1339/1339 [==============================] - 4s 3ms/step - loss: 1552905.7500 - val_loss: 1563849.8750\n",
      "Epoch 24/50\n",
      "1339/1339 [==============================] - 4s 3ms/step - loss: 1552790.1250 - val_loss: 1564703.1250\n",
      "Epoch 25/50\n",
      "1339/1339 [==============================] - 4s 3ms/step - loss: 1552101.1250 - val_loss: 1564935.7500\n",
      "Epoch 26/50\n",
      "1339/1339 [==============================] - 4s 3ms/step - loss: 1552643.5000 - val_loss: 1566225.7500\n",
      "Epoch 27/50\n",
      "1339/1339 [==============================] - 4s 3ms/step - loss: 1552439.5000 - val_loss: 1570052.1250\n",
      "Epoch 28/50\n",
      "1339/1339 [==============================] - 4s 3ms/step - loss: 1552067.0000 - val_loss: 1563577.8750\n",
      "Epoch 29/50\n",
      "1339/1339 [==============================] - 4s 3ms/step - loss: 1552161.3750 - val_loss: 1565341.6250\n",
      "Epoch 30/50\n",
      "1339/1339 [==============================] - 4s 3ms/step - loss: 1551864.6250 - val_loss: 1564847.7500\n",
      "Epoch 31/50\n",
      "1339/1339 [==============================] - 4s 3ms/step - loss: 1552018.1250 - val_loss: 1563829.6250\n",
      "Epoch 32/50\n",
      "1339/1339 [==============================] - 4s 3ms/step - loss: 1551735.0000 - val_loss: 1563414.7500\n",
      "Epoch 33/50\n",
      "1339/1339 [==============================] - 4s 3ms/step - loss: 1551784.5000 - val_loss: 1565080.1250\n",
      "Epoch 34/50\n",
      "1339/1339 [==============================] - 4s 3ms/step - loss: 1551128.5000 - val_loss: 1566957.0000\n",
      "Epoch 35/50\n",
      "1339/1339 [==============================] - 4s 3ms/step - loss: 1551640.2500 - val_loss: 1564871.0000\n",
      "Epoch 36/50\n",
      "1339/1339 [==============================] - 4s 3ms/step - loss: 1551648.2500 - val_loss: 1566233.8750\n",
      "Epoch 37/50\n",
      "1339/1339 [==============================] - 4s 3ms/step - loss: 1551103.7500 - val_loss: 1564270.0000\n",
      "Epoch 38/50\n",
      "1339/1339 [==============================] - 4s 3ms/step - loss: 1551450.3750 - val_loss: 1564538.8750\n",
      "Epoch 39/50\n",
      "1339/1339 [==============================] - 4s 3ms/step - loss: 1550811.1250 - val_loss: 1564770.6250\n",
      "Epoch 40/50\n",
      "1339/1339 [==============================] - 4s 3ms/step - loss: 1550887.6250 - val_loss: 1563446.5000\n",
      "Epoch 41/50\n",
      "1339/1339 [==============================] - 4s 3ms/step - loss: 1551135.3750 - val_loss: 1563661.6250\n",
      "Epoch 42/50\n",
      "1339/1339 [==============================] - 4s 3ms/step - loss: 1550794.3750 - val_loss: 1563374.2500\n",
      "Epoch 43/50\n",
      "1339/1339 [==============================] - 4s 3ms/step - loss: 1550884.7500 - val_loss: 1564300.1250\n",
      "Epoch 44/50\n",
      "1339/1339 [==============================] - 4s 3ms/step - loss: 1550754.0000 - val_loss: 1564511.0000\n",
      "Epoch 45/50\n",
      "1339/1339 [==============================] - 4s 3ms/step - loss: 1551002.2500 - val_loss: 1563884.2500\n",
      "Epoch 46/50\n",
      "1339/1339 [==============================] - 4s 3ms/step - loss: 1550546.0000 - val_loss: 1563508.0000\n",
      "Epoch 47/50\n",
      "1339/1339 [==============================] - 4s 3ms/step - loss: 1550488.3750 - val_loss: 1563474.6250\n",
      "Epoch 48/50\n",
      "1339/1339 [==============================] - 4s 3ms/step - loss: 1550503.2500 - val_loss: 1563490.8750\n",
      "Epoch 49/50\n",
      "1339/1339 [==============================] - 4s 3ms/step - loss: 1550633.0000 - val_loss: 1564559.3750\n",
      "Epoch 50/50\n",
      "1339/1339 [==============================] - 4s 3ms/step - loss: 1550319.8750 - val_loss: 1563812.1250\n",
      "419/419 [==============================] - 1s 2ms/step\n",
      "Mean Squared Error: 1525549.6266599747\n"
     ]
    }
   ],
   "source": [
    "import numpy as np\n",
    "import pandas as pd\n",
    "from sklearn.model_selection import train_test_split\n",
    "from sklearn.preprocessing import StandardScaler\n",
    "from sklearn.metrics import mean_squared_error\n",
    "import tensorflow as tf\n",
    "from tensorflow.keras.models import Sequential\n",
    "from tensorflow.keras.layers import Dense\n",
    "\n",
    "\n",
    "# Split features and target variable\n",
    "X = df[['city', 'rooms', 'bathrooms', 'sqft', 'apartment_or_house']]\n",
    "y = df['price']\n",
    "\n",
    "# Split data into train and test sets\n",
    "X_train, X_test, y_train, y_test = train_test_split(X, y, test_size=0.2, random_state=42)\n",
    "\n",
    "# Standardize features\n",
    "scaler = StandardScaler()\n",
    "X_train_scaled = scaler.fit_transform(X_train)\n",
    "X_test_scaled = scaler.transform(X_test)\n",
    "\n",
    "# Build the neural network model\n",
    "model = Sequential([\n",
    "    Dense(64, activation='relu', input_shape=(X_train_scaled.shape[1],)),\n",
    "    Dense(64, activation='relu'),\n",
    "    Dense(1)  # Output layer for regression\n",
    "])\n",
    "\n",
    "# Compile the model\n",
    "model.compile(optimizer='adam', loss='mean_squared_error')\n",
    "\n",
    "# Train the model\n",
    "history = model.fit(X_train_scaled, y_train, epochs=50, batch_size=32, validation_split=0.2, verbose=1)\n",
    "\n",
    "# Evaluate the model\n",
    "y_pred = model.predict(X_test_scaled)\n",
    "mse = mean_squared_error(y_test, y_pred)\n",
    "print(\"Mean Squared Error:\", mse)\n"
   ]
  }
 ],
 "metadata": {
  "kernelspec": {
   "display_name": "Python 3",
   "language": "python",
   "name": "python3"
  },
  "language_info": {
   "codemirror_mode": {
    "name": "ipython",
    "version": 3
   },
   "file_extension": ".py",
   "mimetype": "text/x-python",
   "name": "python",
   "nbconvert_exporter": "python",
   "pygments_lexer": "ipython3",
   "version": "3.11.3"
  }
 },
 "nbformat": 4,
 "nbformat_minor": 2
}
