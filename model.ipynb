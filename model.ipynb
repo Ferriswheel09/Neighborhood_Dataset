{
 "cells": [
  {
   "cell_type": "code",
   "execution_count": 1,
   "metadata": {},
   "outputs": [],
   "source": [
    "import pandas as pd\n",
    "\n",
    "file_path = \"./output3.csv\"\n",
    "df = pd.read_csv(file_path)"
   ]
  },
  {
   "cell_type": "code",
   "execution_count": 2,
   "metadata": {},
   "outputs": [],
   "source": [
    "df.drop(columns=['address'], inplace=True)\n",
    "df.dropna(subset=['city'], inplace=True)"
   ]
  },
  {
   "cell_type": "code",
   "execution_count": 3,
   "metadata": {},
   "outputs": [
    {
     "name": "stdout",
     "output_type": "stream",
     "text": [
      "53106\n",
      "13828\n"
     ]
    }
   ],
   "source": [
    "apartment_count = 0\n",
    "house_count = 0\n",
    "for index, row in df.iterrows():\n",
    "    # Check the value of the 'apartment_or_house' column\n",
    "    if row['apartment_or_house'] == \"house\":\n",
    "        # If it's 'house', replace it with 1\n",
    "        df.at[index, 'apartment_or_house'] = 1\n",
    "        house_count += 1\n",
    "    elif row['apartment_or_house'] == \"apartment\":\n",
    "        # If it's 'apartment', replace it with 0\n",
    "        df.at[index, 'apartment_or_house'] = 0\n",
    "        apartment_count += 1\n",
    "    \n",
    "\n",
    "print(apartment_count)\n",
    "print(house_count)"
   ]
  },
  {
   "cell_type": "code",
   "execution_count": 4,
   "metadata": {},
   "outputs": [
    {
     "name": "stdout",
     "output_type": "stream",
     "text": [
      "<class 'pandas.core.frame.DataFrame'>\n",
      "Index: 66934 entries, 0 to 66934\n",
      "Data columns (total 6 columns):\n",
      " #   Column              Non-Null Count  Dtype \n",
      "---  ------              --------------  ----- \n",
      " 0   city                66934 non-null  object\n",
      " 1   price               66934 non-null  object\n",
      " 2   rooms               66934 non-null  object\n",
      " 3   bathrooms           66934 non-null  object\n",
      " 4   sqft                66934 non-null  object\n",
      " 5   apartment_or_house  66934 non-null  object\n",
      "dtypes: object(6)\n",
      "memory usage: 5.6+ MB\n"
     ]
    },
    {
     "data": {
      "text/plain": [
       "array(['Woodbridge, VA', 'Puyallup, WA', 'Coppell, TX', 'Annandale, VA',\n",
       "       'Peachtree Corners, GA', 'Waxahachie, TX', 'Annapolis, MD',\n",
       "       'Lake Oswego, OR', 'Romeoville, IL', 'Hurst, TX', 'Lynnwood, WA',\n",
       "       'Fort Lee, NJ', 'Issaquah, WA', 'Wheeling, IL',\n",
       "       'Winter Springs, FL', 'Northglenn, CO', 'Tucker, GA',\n",
       "       'Richfield, MN', 'Farmers Branch, TX', 'Norristown, PA',\n",
       "       'West Hollywood, CA', 'Douglasville, GA', 'Watertown Town, MA',\n",
       "       'Woodstock, GA', 'Fair Oaks, VA', 'Owings Mills, MD',\n",
       "       'Panama City, FL', 'Englewood, CO', 'Kennesaw, GA',\n",
       "       'Wheat Ridge, CO', 'Duluth, GA', 'Dania Beach, FL', 'Garner, NC',\n",
       "       'Norwood, MA', 'Newark, DE', 'Parkville, MD', 'Lawrenceville, GA',\n",
       "       'Chamblee, GA', 'Morrisville, NC', 'Fridley, MN', 'Matthews, NC',\n",
       "       'Laurel, MD', 'Carney, MD', 'McDonough, GA', 'Casselberry, FL',\n",
       "       'Stockbridge, GA', 'Saratoga Springs, NY', 'Short Pump, VA',\n",
       "       'Fredericksburg, VA', 'Maryland Heights, MO', 'Tualatin, OR',\n",
       "       'Tysons Corner, VA', 'Gladstone, MO', 'Temple Terrace, FL',\n",
       "       'Vernon Hills, IL', 'South Salt Lake, UT', 'Wilsonville, OR',\n",
       "       'Suitland, MD', 'Okemos, MI', 'Forney, TX', 'Elkridge, MD',\n",
       "       'Greenbelt, MD', 'Ridgeland, MS', 'Auburn Hills, MI',\n",
       "       'Herndon, VA', 'Landover, MD', 'King of Prussia, PA',\n",
       "       'Westmont, IL', 'Fairfax, VA', 'North Lynnwood, WA',\n",
       "       'Simpsonville, SC', 'Papillion, NE', 'Rock Springs, WY',\n",
       "       'Cockeysville, MD', 'Calabasas, CA', 'Silverdale, WA',\n",
       "       'Mountlake Terrace, WA', 'Suwanee, GA', 'Hyattsville, MD',\n",
       "       'Altamonte Springs, FL', 'Haltom City, TX', 'Hackensack, NJ',\n",
       "       'Littleton, CO', 'Ashburn, VA', 'Sierra Vista, AZ', 'Odenton, MD',\n",
       "       'Fairfield, OH', 'The Colony, TX', 'Shakopee, MN', 'Lombard, IL',\n",
       "       'Sherman, TX', 'Bremerton, WA', 'Hickory, NC',\n",
       "       'North Miami Beach, FL', 'San Bruno, CA', 'Gainesville, GA',\n",
       "       'Edmonds, WA', 'New York City, NY', 'Los Angeles, CA',\n",
       "       'Chicago, IL', 'Houston, TX', 'Phoenix, AZ', 'Philadelphia, PA',\n",
       "       'San Antonio, TX', 'San Diego, CA', 'Dallas, TX', 'San Jose, CA',\n",
       "       'Austin, TX', 'Jacksonville, FL', 'Fort Worth, TX', 'Columbus, OH',\n",
       "       'Indianapolis, IN', 'Charlotte, NC', 'San Francisco, CA',\n",
       "       'Seattle, WA', 'Denver, CO', 'Nashville, TN', 'Oklahoma City, OK',\n",
       "       'El Paso, TX', 'Washington, DC', 'Boston, MA', 'Portland, OR',\n",
       "       'Las Vegas, NV', 'Detroit, MI', 'Memphis, TN', 'Louisville, KY',\n",
       "       'Baltimore, MD', 'Milwaukee, WI', 'Albuquerque, NM', 'Fresno, CA',\n",
       "       'Tucson, AZ', 'Sacramento, CA', 'Kansas City, MO', 'Mesa, AZ',\n",
       "       'Atlanta, GA', 'Omaha, NE', 'Colorado Springs, CO', 'Raleigh, NC',\n",
       "       'Long Beach, CA', 'Virginia Beach, VA', 'Miami, FL', 'Oakland, CA',\n",
       "       'Minneapolis, MN', 'Tulsa, OK', 'Wichita, KS', 'Arlington, TX',\n",
       "       'Tampa, FL', 'Aurora, CO', 'New Orleans, LA', 'Cleveland, OH',\n",
       "       'Anaheim, CA', 'Lexington, KY', 'Henderson, NV',\n",
       "       'Corpus Christi, TX', 'Riverside, CA', 'Santa Ana, CA',\n",
       "       'Cincinnati, OH', 'St. Paul, MN', 'Orlando, FL', 'Irvine, CA',\n",
       "       'Pittsburgh, PA', 'St. Louis, MO', 'Greensboro, NC', 'Lincoln, NE',\n",
       "       'Jersey City, NJ', 'Plano, TX', 'Durham, NC', 'Chula Vista, CA',\n",
       "       'Chandler, AZ', 'Madison, WI', 'Gilbert, AZ', 'Reno, NV',\n",
       "       'Fort Wayne, IN', 'North Las Vegas, NV', 'St. Petersburg, FL',\n",
       "       'Irving, TX', 'Winston-Salem, NC', 'Chesapeake, VA',\n",
       "       'Glendale, AZ', 'Garland, TX', 'Scottsdale, AZ', 'Norfolk, VA',\n",
       "       'Arlington, VA', 'Boise, ID', 'Fremont, CA', 'Spokane, WA',\n",
       "       'Richmond, VA', 'Santa Clarita, CA', 'Baton Rouge, LA',\n",
       "       'Enterprise, NV', 'Hialeah, FL', 'Spring Valley, NV', 'Tacoma, WA',\n",
       "       'Huntsville, AL', 'Des Moines, IA', 'Yonkers, NY',\n",
       "       'Moreno Valley, CA', 'Fayetteville, NC', 'Columbus, GA',\n",
       "       'Worcester, MA', 'Oxnard, CA', 'Little Rock, AR', 'Frisco, TX',\n",
       "       'Augusta, GA', 'Salt Lake City, UT', 'Birmingham, AL',\n",
       "       'Montgomery, AL', 'Sunrise Manor, NV', 'Tallahassee, FL',\n",
       "       'Grand Rapids, MI', 'Huntington Beach, CA', 'Grand Prairie, TX',\n",
       "       'Overland Park, KS', 'McKinney, TX', 'Glendale, CA',\n",
       "       'Sioux Falls, SD', 'Knoxville, TN', 'Peoria, AZ', 'Vancouver, WA',\n",
       "       'Mobile, AL', 'Newport News, VA', 'Fort Lauderdale, FL',\n",
       "       'Aurora, IL', 'Chattanooga, TN', 'Tempe, AZ', 'Santa Rosa, CA',\n",
       "       'Eugene, OR', 'Ontario, CA', 'Cary, NC', 'Rancho Cucamonga, CA',\n",
       "       'Oceanside, CA', 'Pembroke Pines, FL', 'Fort Collins, CO',\n",
       "       'Clarksville, TN', 'Hayward, CA', 'Corona, CA', 'Alexandria, VA',\n",
       "       'Lakewood, CO', 'Kansas City, KS', 'Sunnyvale, CA', 'Killeen, TX',\n",
       "       'Murfreesboro, TN', 'Jackson, MS', 'Hollywood, FL',\n",
       "       'Escondido, CA', 'Pasadena, TX', 'Bellevue, WA', 'Charleston, SC',\n",
       "       'Pomona, CA', 'Mesquite, TX', 'Naperville, IL', 'Roseville, CA',\n",
       "       'Savannah, GA', 'Surprise, AZ', 'Gainesville, FL', 'Fullerton, CA',\n",
       "       'Denton, TX', 'Olathe, KS', 'Thornton, CO', 'Waco, TX',\n",
       "       'West Valley City, UT', 'Orange, CA', 'Pasadena, CA',\n",
       "       'Hampton, VA', 'Columbia, SC', 'New Haven, CT', 'Stamford, CT',\n",
       "       'Kent, WA', 'Miramar, FL', 'Victorville, CA', 'Coral Springs, FL',\n",
       "       'Sterling Heights, MI', 'Midland, TX', 'Carrollton, TX',\n",
       "       'Santa Clara, CA', 'Norman, OK', 'Fargo, ND', 'Athens, GA',\n",
       "       'Thousand Oaks, CA', 'Topeka, KS', 'Abilene, TX',\n",
       "       'Simi Valley, CA', 'Allentown, PA', 'Lewisville, TX',\n",
       "       'Concord, CA', 'Pearland, TX', 'Arvada, CO', 'Independence, MO',\n",
       "       'Ann Arbor, MI', 'Lafayette, LA', 'Palm Bay, FL', 'Berkeley, CA',\n",
       "       'Hartford, CT', 'Rochester, MN', 'Round Rock, TX',\n",
       "       'College Station, TX', 'Fairfield, CA', 'The Woodlands, TX',\n",
       "       'Richardson, TX', 'Cambridge, MA', 'West Palm Beach, FL',\n",
       "       'Clearwater, FL', 'Wilmington, NC', 'Evansville, IN',\n",
       "       'West Jordan, UT', 'North Charleston, SC', 'Westminster, CO',\n",
       "       'Manchester, NH', 'Brandon, FL', 'Carlsbad, CA', 'Lowell, MA',\n",
       "       'Beaumont, TX', 'Lakeland, FL', 'Gresham, OR', 'League City, TX',\n",
       "       'Odessa, TX', 'Lansing, MI', 'Murrieta, CA', 'Pompano Beach, FL',\n",
       "       'Costa Mesa, CA', 'Everett, WA', 'Ventura, CA', 'Temecula, CA',\n",
       "       'Santa Maria, CA', 'Dearborn, MI', 'West Covina, CA', 'Sparks, NV',\n",
       "       'Greeley, CO', 'Centennial, CO', 'Sandy Springs, GA',\n",
       "       'Hillsboro, OR', 'Columbia, MD', 'Boulder, CO', 'Tyler, TX',\n",
       "       'Burbank, CA', 'Davie, FL', 'Allen, TX', 'Renton, WA',\n",
       "       'San Mateo, CA', 'Daly City, CA', 'South Bend, IN',\n",
       "       \"Lee's Summit, MO\", 'Vacaville, CA', 'Highlands Ranch, CO',\n",
       "       'Quincy, MA', 'Federal Way, WA', 'Carmel, IN', 'Bend, OR',\n",
       "       'San Angelo, TX', 'Roanoke, VA', 'Fishers, IN', 'Vista, CA',\n",
       "       'Longmont, CO', 'Boca Raton, FL', 'Beaverton, OR', 'Goodyear, AZ',\n",
       "       'Orem, UT', 'Sunrise, FL', 'Sandy, UT', 'Suffolk, VA',\n",
       "       'Edmond, OK', 'Asheville, NC', 'Mission Viejo, CA',\n",
       "       'Plantation, FL', 'New Braunfels, TX', 'Roswell, GA', 'Conroe, TX',\n",
       "       'Santa Monica, CA', 'Kirkland, WA', 'Hoover, AL', \"O'Fallon, MO\",\n",
       "       'Alafaya, FL', 'Chino, CA', 'Mount Pleasant, SC', 'Germantown, MD',\n",
       "       'Waukegan, IL', 'Bloomington, MN', 'Avondale, AZ',\n",
       "       'Fort Myers, FL', 'Greenville, NC', 'Santa Fe, NM', 'Troy, MI',\n",
       "       'Livermore, CA', 'Citrus Heights, CA', 'Ogden, UT',\n",
       "       'Springdale, AR', 'Deerfield Beach, FL', 'San Ramon, CA',\n",
       "       'Auburn, WA', 'Lake Forest, CA', 'Newport Beach, CA',\n",
       "       'Melbourne, FL', 'Brooklyn Park, MN', 'Baytown, TX',\n",
       "       'Kennewick, WA', 'Franklin, TN', 'Farmington Hills, MI',\n",
       "       'Temple, TX', 'Redwood City, CA', 'Lake Charles, LA',\n",
       "       'Miami Beach, FL', 'Longview, TX', 'Mountain View, CA',\n",
       "       'Silver Spring, MD', 'Layton, UT', 'Folsom, CA', 'Waldorf, MD',\n",
       "       'New Rochelle, NY', 'Gastonia, NC', 'Somerville, MA',\n",
       "       'Boynton Beach, FL', 'Plymouth, MN', 'Napa, CA', 'Milpitas, CA',\n",
       "       'Bloomington, IN', 'Upland, CA', 'Pleasanton, CA', 'Kissimmee, FL',\n",
       "       'Frederick, MD', 'Chino Hills, CA', 'South Jordan, UT',\n",
       "       'Schaumburg, IL', 'Alameda, CA', 'Pasco, WA',\n",
       "       'Arlington Heights, IL', 'Flower Mound, TX', 'Cedar Park, TX',\n",
       "       'Flagstaff, AZ', 'Southfield, MI', 'Woodbury, MN', 'Doral, FL',\n",
       "       'Rock Hill, SC', 'Castle Rock, CO', 'Lauderhill, FL',\n",
       "       'Broomfield, CO', 'Redmond, WA', 'Mansfield, TX',\n",
       "       'Ellicott City, MD', 'Kalamazoo, MI', 'Daytona Beach, FL',\n",
       "       'Centreville, VA', 'Bowling Green, KY', 'Jacksonville, NC',\n",
       "       'Framingham, MA', 'Georgetown, TX', 'Rocklin, CA', 'Tamarac, FL',\n",
       "       'Glen Burnie, MD', 'Dublin, CA', 'Greenville, SC',\n",
       "       'St. Charles, MO', 'Noblesville, IN', 'North Richland Hills, TX',\n",
       "       'Walnut Creek, CA', 'Union City, CA', 'Gaithersburg, MD',\n",
       "       'St. Cloud, MN', 'Wesley Chapel, FL', 'West Des Moines, IA',\n",
       "       'Eagan, MN', 'San Marcos, TX', 'Rockville, MD', 'Sammamish, WA',\n",
       "       'Bethesda, MD', 'Alpharetta, GA', 'South San Francisco, CA',\n",
       "       'Victoria, TX', 'Malden, MA', 'Waltham, MA', 'Pflugerville, TX',\n",
       "       'North Little Rock, AR', 'Burnsville, MN', 'Spring, TX',\n",
       "       'Eden Prairie, MN', 'Greenwood, IN', 'Millcreek, UT', 'Ocala, FL',\n",
       "       'Bellevue, NE', 'Lakewood, WA', 'Leander, TX', 'Reston, VA',\n",
       "       'Hendersonville, TN', 'Marietta, GA', 'Wellington, FL',\n",
       "       'Sanford, FL', 'Huntersville, NC', 'La Mesa, CA', 'Richland, WA',\n",
       "       'Euless, TX', 'North Miami, FL', 'White Plains, NY',\n",
       "       'Palm Beach Gardens, FL', 'Grand Forks, ND', 'Chapel Hill, NC',\n",
       "       'Hoboken, NJ', 'Parker, CO', 'Shoreline, WA', 'Bowie, MD',\n",
       "       'Towson, MD', 'Coconut Creek, FL', 'Lenexa, KS',\n",
       "       'Weymouth Town, MA', 'Bel Air South, MD', 'Madison, AL',\n",
       "       'Burlington, NC', 'Brookhaven, GA', 'Four Corners, FL',\n",
       "       'Lacey, WA', 'Mount Prospect, IL', 'Smyrna, GA', 'Bradenton, FL',\n",
       "       'New Brunswick, NJ', 'Sarasota, FL', 'Tigard, OR', 'Olympia, WA',\n",
       "       'Southaven, MS', \"Coeur d'Alene, ID\", 'Peabody, MA',\n",
       "       'Pensacola, FL', 'Smyrna, TN', 'Wheaton, IL', 'Minnetonka, MN',\n",
       "       'Bozeman, MT', 'Pinellas Park, FL', 'Galveston, TX',\n",
       "       'Texas City, TX', 'Edina, MN', 'West New York, NJ',\n",
       "       'Aliso Viejo, CA', 'Dunwoody, GA', 'Collierville, TN',\n",
       "       'Mishawaka, IN', 'Grapevine, TX', 'Draper, UT', 'Murray, UT',\n",
       "       'Mooresville, NC', 'Jeffersonville, IN', 'North Bethesda, MD',\n",
       "       'Coral Gables, FL', 'St. Louis Park, MN', 'Bedford, TX',\n",
       "       'Dublin, OH', 'Kyle, TX', 'Leesburg, VA', 'Middletown, CT',\n",
       "       'Bothell, WA', 'Rancho Santa Margarita, CA', 'Brea, CA',\n",
       "       'Parma Heights, OH', 'Golden, CO', 'Rosedale, MD',\n",
       "       'Merrifield, VA', 'Universal City, TX', 'Maitland, FL',\n",
       "       'Harrison, NJ', 'Boerne, TX', 'Panama City Beach, FL',\n",
       "       'Norcross, GA', 'Conyers, GA', 'Lake St. Louis, MO', 'Addison, TX',\n",
       "       'Humble, TX', 'Glen Allen, VA', 'Lithia Springs, GA',\n",
       "       'Lone Tree, CO', 'Wells Branch, TX', 'Newcastle, WA',\n",
       "       'Emeryville, CA', 'Tomball, TX', 'Webster, TX', 'Celebration, FL',\n",
       "       'Temple Hills, MD', 'Mount Rainier, MD', 'Jersey Village, TX',\n",
       "       'Contra Costa Centre, CA', 'Stone Mountain, GA', 'Exton, PA',\n",
       "       'Oakwood, GA', 'Glendale, CO', 'city', 'Los Ranchos, NM',\n",
       "       'Corrales, NM', 'Doraville, GA', 'College Park, GA',\n",
       "       'South Fulton, GA', 'Decatur, GA', 'East Point, GA',\n",
       "       'Del Valle, TX', 'West Lake Hills, TX', 'Bee Cave, TX',\n",
       "       'Brooklyn, MD', 'Baltimore City, MD', 'Idlewylde, MD',\n",
       "       'Brighton, MA', 'Brookline, MA', 'Milton, MA', 'Watertown, MA',\n",
       "       'Newton, MA', 'Chelsea, MA', 'Pineville, NC', 'West Chicago, IL',\n",
       "       'Niles, IL', 'Park Ridge, IL', 'Evergreen Park, IL',\n",
       "       'Oak Park, IL', 'Calhan, CO', 'Canal Winchester, OH',\n",
       "       'Blacklick, OH', 'Worthington, OH', 'Grove City, OH',\n",
       "       'Hilliard, OH', 'Westerville, OH', 'Powell, OH', 'Galloway, OH',\n",
       "       'New Albany, OH', 'Lockbourne, OH', 'Obetz, OH',\n",
       "       'Upper Arlington, OH', 'Reynoldsburg, OH', 'Groveport, OH',\n",
       "       'Gahanna, OH', 'Rockwall, TX', 'Highland Park, TX',\n",
       "       'University Park, TX', 'Rowlett, TX', 'Heath, TX',\n",
       "       'Duncanville, TX', 'Lancaster, TX', 'Grosse Pointe Park, MI',\n",
       "       'Hamtramck, MI', 'Hazel Park, MI', 'Dearborn Heights, MI',\n",
       "       'Harper Woods, MI', 'Warren, MI', 'Redford, MI', 'Oak Park, MI',\n",
       "       'Highland Park, MI', 'River Rouge, MI', 'Ferndale, MI',\n",
       "       'Horizon City, TX', 'Clint, TX', 'Haslet, TX', 'Aledo, TX',\n",
       "       'Crowley, TX', 'Benbrook, TX', 'White Settlement, TX',\n",
       "       'River Oaks, TX', 'Lake Worth, TX', 'Westover Hills, TX',\n",
       "       'Burleson, TX', 'Forest Hill, TX', 'Kennedale, TX',\n",
       "       'Northlake, TX', 'Roanoke, TX', 'Edgecliff Village, TX',\n",
       "       'Clovis, CA', 'Pinedale, CA', 'Crosby, TX', 'Fresno, TX',\n",
       "       'Bellaire, TX', 'Missouri City, TX', 'Cypress, TX', 'Hockley, TX',\n",
       "       'Katy, TX', 'Spring Valley Village, TX', 'Huffman, TX',\n",
       "       'West University Place, TX', 'Kingwood, TX', 'Galena Park, TX',\n",
       "       'Greenfield, IN', 'Plainfield, IN', 'Camby, IN',\n",
       "       'Atlantic Beach, FL', 'Orange Park, FL', 'Parkville, MO',\n",
       "       'Leawood, KS', 'Grandview, MO', 'Raytown, MO', 'Mission Hills, KS',\n",
       "       'Ferrelview, MO', 'Weatherby Lake, MO', 'County/other, MO',\n",
       "       'Platte City, MO', 'Reseda, CA', 'Encino, CA', 'Gardena, CA',\n",
       "       'Valley Village, CA', 'San Pedro, CA', 'Woodland Hills, CA',\n",
       "       'Chatsworth, CA', 'Valley Glen, CA', 'Studio City, CA',\n",
       "       'North Hollywood, CA', 'Beverly Hills, CA', 'Sylmar, CA',\n",
       "       'Canoga Park, CA', 'Sherman Oaks, CA', 'Panorama City, CA',\n",
       "       'Marina Del Rey, CA', 'Pacific Palisades, CA', 'Porter Ranch, CA',\n",
       "       'Tujunga, CA', 'Sun Valley, CA', 'Wilmington, CA',\n",
       "       'San Fernando, CA', 'Venice, CA', 'Van Nuys, CA',\n",
       "       'Toluca Lake, CA', 'Granada Hills, CA', 'View Park, CA',\n",
       "       'West Hills, CA', 'Rancho Palos Verdes, CA', 'City Terrace, CA',\n",
       "       'Pacoima, CA', 'Tarzana, CA', 'Westchester, CA',\n",
       "       'East Los Angeles, CA', 'Harbor City, CA', 'Winnetka, CA',\n",
       "       'Northridge, CA', 'North Hills, CA', 'El Sereno, CA',\n",
       "       'Sunland, CA', 'Fairdale, KY', 'Fisherville, KY', 'Prospect, KY',\n",
       "       'New Albany, IN', 'Shepherdsville, KY', 'Anchorage, KY',\n",
       "       'Jeffersontown, KY', 'Unicorp/memphis, TN', 'Germantown, TN',\n",
       "       'Bartlett, TN', 'Apache Junction, AZ', 'San Tan Valley, AZ',\n",
       "       'Wauwatosa, WI', 'Whitefish Bay, WI', 'Glendale, WI',\n",
       "       'West Milwaukee, WI', 'Greenfield, WI', 'Nolensville, TN',\n",
       "       'Antioch, TN', 'Old Hickory, TN', 'Brentwood, TN', 'Hermitage, TN',\n",
       "       'Madison, TN', 'Whites Creek, TN', 'Goodlettsville, TN',\n",
       "       'Mount Juliet, TN', 'Joelton, TN', 'New York, NY', 'Ridgewood, NY',\n",
       "       'Little Neck, NY', 'Canarsie, NY', 'Brooklyn, NY',\n",
       "       'Staten Island, NY', 'Fresh Meadows, NY', 'Bronx, NY',\n",
       "       'Woodside, NY', 'Flushing, NY', 'South Ozone Park, NY',\n",
       "       'Middle Village, NY', 'Howard Beach, NY', 'Bensonhurst, NY',\n",
       "       'Glen Oaks, NY', 'Floral Park, NY', 'East Elmhurst, NY',\n",
       "       'Stuyvesant Heights, NY', 'Valley Stream, NY', 'East New York, NY',\n",
       "       'Whitestone, NY', 'Glendale, NY', 'Bayside, NY',\n",
       "       'Far Rockaway, NY', 'Queens Village, NY', 'Rego Park, NY',\n",
       "       'Ozone Park, NY', 'Saint Albans, NY', 'Hollis Hills, NY',\n",
       "       'Oakland Gardens, NY', 'Bushwick, NY', 'Richmond Hill South, NY',\n",
       "       'Beechhurst, NY', 'Corona, NY', 'Jamaica, NY', 'Malba, NY',\n",
       "       'Mount Vernon, NY', 'Springfield Gardens, NY', 'Forest Hills, NY',\n",
       "       'Elmhurst, NY', 'Douglaston, NY', 'Jamaica Estates, NY',\n",
       "       'Bellerose, NY', 'Long Island City, NY', 'Midwood, NY',\n",
       "       'Gravesend, NY', 'Jackson Heights, NY', 'Yukon, OK', 'Moore, OK',\n",
       "       'Del City, OK', 'Choctaw, OK', 'Jones, OK', 'Mustang, OK',\n",
       "       'Bethany, OK', 'The Village, OK', 'Piedmont, OK', 'Warr Acres, OK',\n",
       "       'Mcloud, OK', 'Gretna, NE', 'Elkhorn, NE', 'Ralston, NE',\n",
       "       'Jenkintown, PA', 'Laveen, AZ', 'Cave Creek, AZ', 'Tolleson, AZ',\n",
       "       'Anthem, AZ', 'Paradise Valley, AZ', 'Milwaukie, OR',\n",
       "       'Happy Valley, OR', 'Wake Forest, NC', 'Knightdale, NC',\n",
       "       'Apex, NC', 'Elk Grove, CA', 'Medina, TX', 'Converse, TX',\n",
       "       'Castroville, TX', 'Live Oak, TX', 'Von Ormy, TX',\n",
       "       'Leon Valley, TX', 'Helotes, TX', 'Kirby, TX', 'Selma, TX',\n",
       "       'Rancho Bernardo (san Diego), CA', 'La Jolla, CA',\n",
       "       'Rancho Santa Fe, CA', 'Scripps Miramar, CA', 'Del Mar, CA',\n",
       "       'San Deigo, CA', 'Bonita, CA', 'Spring Valley, CA',\n",
       "       'San Ysidro, CA', 'National City, CA', 'Imperial Beach, CA',\n",
       "       'Poway, CA', 'Pacific Beach (san Diego), CA', 'Lemon Grove, CA',\n",
       "       'Los Gatos, CA', 'Morgan Hill, CA', 'Campbell, CA', 'Saratoga, CA',\n",
       "       'Burien, WA', 'Saddlebrooke, AZ', 'Oro Valley, AZ', 'Vail, AZ',\n",
       "       'Marana, AZ', 'Chevy Chase, MD'], dtype=object)"
      ]
     },
     "execution_count": 4,
     "metadata": {},
     "output_type": "execute_result"
    }
   ],
   "source": [
    "df.info()\n",
    "df['city'].unique()"
   ]
  },
  {
   "cell_type": "code",
   "execution_count": 5,
   "metadata": {},
   "outputs": [
    {
     "name": "stdout",
     "output_type": "stream",
     "text": [
      "<class 'pandas.core.frame.DataFrame'>\n",
      "Index: 66935 entries, 0 to 64501\n",
      "Columns: 862 entries, city to city\n",
      "dtypes: float64(856), object(6)\n",
      "memory usage: 440.7+ MB\n"
     ]
    }
   ],
   "source": [
    "#Label Binarizer for States\n",
    "from sklearn.preprocessing import LabelBinarizer\n",
    "\n",
    "city_column = df[\"city\"].to_numpy()\n",
    "\n",
    "label_binarizer = LabelBinarizer()\n",
    "label_binarizer.fit(city_column)\n",
    "\n",
    "binarized_states = label_binarizer.transform(city_column)\n",
    "binarized_city_df = pd.DataFrame(binarized_states, columns=label_binarizer.classes_)\n",
    "\n",
    "binarized_city_df.head()\n",
    "\n",
    "\n",
    "df = pd.concat([df, binarized_city_df], axis=1)\n",
    "df.info()\n",
    "# df['city'] = binarized_states\n",
    "# print(df['city'])\n"
   ]
  },
  {
   "cell_type": "code",
   "execution_count": 6,
   "metadata": {},
   "outputs": [
    {
     "name": "stdout",
     "output_type": "stream",
     "text": [
      "       0    1    2    3    4    5    6    7    8    9    ...  846  847  848  \\\n",
      "0        0    0    0    0    0    0    0    0    0    0  ...    1    0    0   \n",
      "1        0    0    0    0    0    0    0    0    0    0  ...    1    0    0   \n",
      "2        0    0    0    0    0    0    0    0    0    0  ...    1    0    0   \n",
      "3        0    0    0    0    0    0    0    0    0    0  ...    1    0    0   \n",
      "4        0    0    0    0    0    0    0    0    0    0  ...    1    0    0   \n",
      "...    ...  ...  ...  ...  ...  ...  ...  ...  ...  ...  ...  ...  ...  ...   \n",
      "66929    0    0    0    0    0    0    0    0    0    0  ...    0    0    0   \n",
      "66930    0    0    0    0    0    0    0    0    0    0  ...    0    0    0   \n",
      "66931    0    0    0    0    0    0    0    0    0    0  ...    0    0    0   \n",
      "66932    0    0    0    0    0    0    0    0    0    0  ...    0    0    0   \n",
      "66933    0    0    0    0    0    0    0    0    0    0  ...    0    0    0   \n",
      "\n",
      "       849  850  851  852  853  854  855  \n",
      "0        0    0    0    0    0    0    0  \n",
      "1        0    0    0    0    0    0    0  \n",
      "2        0    0    0    0    0    0    0  \n",
      "3        0    0    0    0    0    0    0  \n",
      "4        0    0    0    0    0    0    0  \n",
      "...    ...  ...  ...  ...  ...  ...  ...  \n",
      "66929    0    0    0    0    0    0    0  \n",
      "66930    0    0    0    0    0    0    0  \n",
      "66931    0    0    0    0    0    0    0  \n",
      "66932    0    0    0    0    0    0    0  \n",
      "66933    0    0    0    0    0    0    0  \n",
      "\n",
      "[66934 rows x 856 columns]\n"
     ]
    }
   ],
   "source": [
    "# Convert NumPy array to pandas DataFrame\n",
    "binarized_states_df = pd.DataFrame(binarized_states)\n",
    "\n",
    "# Print the DataFrame\n",
    "print(binarized_states_df)"
   ]
  },
  {
   "cell_type": "code",
   "execution_count": 7,
   "metadata": {},
   "outputs": [
    {
     "name": "stdout",
     "output_type": "stream",
     "text": [
      "<class 'pandas.core.frame.DataFrame'>\n",
      "Index: 66935 entries, 0 to 64501\n",
      "Columns: 862 entries, city to city\n",
      "dtypes: float64(856), object(6)\n",
      "memory usage: 440.7+ MB\n"
     ]
    }
   ],
   "source": [
    "df.info()"
   ]
  },
  {
   "cell_type": "code",
   "execution_count": 8,
   "metadata": {},
   "outputs": [],
   "source": [
    "#Need to drop anything that isn't call for rent\n",
    "df = df[pd.to_numeric(df['price'], errors='coerce').notnull()]\n",
    "df = df[pd.to_numeric(df['rooms'], errors='coerce').notnull()]\n",
    "df = df[pd.to_numeric(df['bathrooms'], errors='coerce').notnull()]\n",
    "df = df[pd.to_numeric(df['sqft'], errors='coerce').notnull()]\n",
    "df = df[pd.to_numeric(df['apartment_or_house'], errors='coerce').notnull()]\n",
    "\n",
    "# Convert 'price' column to numeric\n",
    "df['price'] = pd.to_numeric(df['price'])\n",
    "df['rooms'] = pd.to_numeric(df['rooms'])\n",
    "df['bathrooms'] = pd.to_numeric(df['bathrooms'])\n",
    "df['sqft'] = pd.to_numeric(df['sqft'])\n",
    "df[\"apartment_or_house\"] = pd.to_numeric(df[\"apartment_or_house\"])"
   ]
  },
  {
   "cell_type": "code",
   "execution_count": 9,
   "metadata": {},
   "outputs": [
    {
     "name": "stdout",
     "output_type": "stream",
     "text": [
      "<class 'pandas.core.frame.DataFrame'>\n",
      "Index: 66821 entries, 0 to 66934\n",
      "Columns: 862 entries, city to city\n",
      "dtypes: float64(858), int64(3), object(1)\n",
      "memory usage: 440.0+ MB\n",
      "None\n",
      "apartment_or_house\n",
      "0    52995\n",
      "1    13826\n",
      "Name: count, dtype: int64\n"
     ]
    }
   ],
   "source": [
    "print(df.info())\n",
    "\n",
    "counts = df['apartment_or_house'].value_counts()\n",
    "print(counts)"
   ]
  },
  {
   "cell_type": "code",
   "execution_count": 10,
   "metadata": {},
   "outputs": [
    {
     "name": "stdout",
     "output_type": "stream",
     "text": [
      "<class 'pandas.core.frame.DataFrame'>\n",
      "Index: 66821 entries, 0 to 66934\n",
      "Columns: 860 entries, price to Yukon, OK\n",
      "dtypes: float64(857), int64(3)\n",
      "memory usage: 438.9 MB\n"
     ]
    }
   ],
   "source": [
    "\n",
    "df = df.drop(columns=['city', 'city'])\n",
    "df.info()"
   ]
  },
  {
   "cell_type": "code",
   "execution_count": 11,
   "metadata": {},
   "outputs": [
    {
     "name": "stdout",
     "output_type": "stream",
     "text": [
      "Feature-Target Correlations:\n",
      "rooms                 0.373022\n",
      "bathrooms             0.419756\n",
      "sqft                  0.185947\n",
      "apartment_or_house    0.531467\n",
      "Abilene, TX           0.009561\n",
      "                        ...   \n",
      "Woodstock, GA         0.009634\n",
      "Worcester, MA         0.009698\n",
      "Worthington, OH       0.008004\n",
      "Yonkers, NY           0.008142\n",
      "Yukon, OK             0.011068\n",
      "Name: price, Length: 859, dtype: float64\n"
     ]
    }
   ],
   "source": [
    "# Calculate Pearson correlation coefficients\n",
    "correlation_matrix = df.corr().abs()\n",
    "\n",
    "# Extract correlations with the target variable\n",
    "feature_target_correlations = correlation_matrix['price'].drop('price')\n",
    "\n",
    "# Print feature-target correlations\n",
    "print(\"Feature-Target Correlations:\")\n",
    "print(feature_target_correlations)"
   ]
  },
  {
   "cell_type": "code",
   "execution_count": 12,
   "metadata": {},
   "outputs": [
    {
     "name": "stdout",
     "output_type": "stream",
     "text": [
      "(81, 860)\n",
      "(66821, 7)\n"
     ]
    }
   ],
   "source": [
    "# right now each city is a column with entries having a 1 if the entry is in the city, else 0\n",
    "# this needs to get converted into a system where the city is its own column\n",
    "print(df[df['Abilene, TX'] == 1].shape)\n",
    "df = pd.melt(df, ['price', 'rooms', 'bathrooms', 'sqft', 'apartment_or_house'], var_name='city')\n",
    "print(df[df['city'] == 'Abilene, TX'].shape)\n",
    "df = df[df.columns[:-1]]"
   ]
  },
  {
   "cell_type": "code",
   "execution_count": 13,
   "metadata": {},
   "outputs": [
    {
     "ename": "",
     "evalue": "",
     "output_type": "error",
     "traceback": [
      "\u001b[1;31mThe Kernel crashed while executing code in the current cell or a previous cell. \n",
      "\u001b[1;31mPlease review the code in the cell(s) to identify a possible cause of the failure. \n",
      "\u001b[1;31mClick <a href='https://aka.ms/vscodeJupyterKernelCrash'>here</a> for more info. \n",
      "\u001b[1;31mView Jupyter <a href='command:jupyter.viewOutput'>log</a> for further details."
     ]
    }
   ],
   "source": [
    "from sklearn.preprocessing import LabelEncoder\n",
    "import word2vec\n",
    "\n",
    "# for col in ['city', 'apartment_or_house']:\n",
    "#     le = LabelEncoder()\n",
    "#     df[col] = le.fit_transform(df[col].astype(str))\n",
    "#     label_encoders[col] = le\n",
    "#     print(label_encoders)\n",
    "\n",
    "\n",
    "df['city'] = df['city'].str.replace(' ', '_')\n",
    "df['city'] = df['city'].str.replace(',', '_')\n",
    "df['city'] = df['city'].str.replace('__', ' ')\n",
    "print(df['city'].unique())\n",
    "\n",
    "# put all the cities into a single file\n",
    "city_list = df['city'].unique().tolist()\n",
    "city_file = open('city_list.txt', 'w')\n",
    "for city in city_list:\n",
    "    city_file.write(f'{city}\\n')\n",
    "\n",
    "# cities need to become vectors\n",
    "word2vec.word2vec('city_list.txt', 'city_list.bin')\n"
   ]
  },
  {
   "cell_type": "code",
   "execution_count": 1,
   "metadata": {},
   "outputs": [
    {
     "ename": "NameError",
     "evalue": "name 'df' is not defined",
     "output_type": "error",
     "traceback": [
      "\u001b[0;31m---------------------------------------------------------------------------\u001b[0m",
      "\u001b[0;31mNameError\u001b[0m                                 Traceback (most recent call last)",
      "Cell \u001b[0;32mIn[1], line 12\u001b[0m\n\u001b[1;32m      9\u001b[0m \u001b[38;5;28;01mfrom\u001b[39;00m \u001b[38;5;21;01msklearn\u001b[39;00m \u001b[38;5;28;01mimport\u001b[39;00m preprocessing\n\u001b[1;32m     10\u001b[0m \u001b[38;5;28;01mimport\u001b[39;00m \u001b[38;5;21;01mpandas\u001b[39;00m \u001b[38;5;28;01mas\u001b[39;00m \u001b[38;5;21;01mpd\u001b[39;00m\n\u001b[0;32m---> 12\u001b[0m df \u001b[38;5;241m=\u001b[39m \u001b[43mdf\u001b[49m\u001b[38;5;241m.\u001b[39mdropna()\n\u001b[1;32m     13\u001b[0m \u001b[38;5;66;03m# Handle missing values if any\u001b[39;00m\n\u001b[1;32m     14\u001b[0m \u001b[38;5;66;03m# imputer = SimpleImputer(strategy='mean')\u001b[39;00m\n\u001b[1;32m     15\u001b[0m \u001b[38;5;66;03m# df['sqft'] = imputer.fit_transform(df['sqft'].values.reshape(-1, 1))\u001b[39;00m\n\u001b[1;32m     16\u001b[0m \n\u001b[1;32m     17\u001b[0m \u001b[38;5;66;03m# Split data into train and test sets\u001b[39;00m\n\u001b[1;32m     18\u001b[0m X \u001b[38;5;241m=\u001b[39m df\u001b[38;5;241m.\u001b[39mdrop(columns\u001b[38;5;241m=\u001b[39m[\u001b[38;5;124m'\u001b[39m\u001b[38;5;124mprice\u001b[39m\u001b[38;5;124m'\u001b[39m])  \u001b[38;5;66;03m# Features\u001b[39;00m\n",
      "\u001b[0;31mNameError\u001b[0m: name 'df' is not defined"
     ]
    }
   ],
   "source": [
    "from sklearn.model_selection import train_test_split\n",
    "from sklearn.neural_network import MLPRegressor\n",
    "from sklearn.naive_bayes import GaussianNB\n",
    "from sklearn.metrics import mean_squared_error\n",
    "\n",
    "from sklearn.impute import SimpleImputer\n",
    "from sklearn.metrics import accuracy_score\n",
    "from sklearn import preprocessing\n",
    "import pandas as pd\n",
    "\n",
    "df = df.dropna()\n",
    "# Handle missing values if any\n",
    "# imputer = SimpleImputer(strategy='mean')\n",
    "# df['sqft'] = imputer.fit_transform(df['sqft'].values.reshape(-1, 1))\n",
    "\n",
    "# Split data into train and test sets\n",
    "X = df.drop(columns=['price'])  # Features\n",
    "print(X.info())\n",
    "print(X.fillna(0))\n",
    "y = df['price']  # Target variable\n",
    "\n",
    "X_train, X_test, y_train, y_test = train_test_split(X, y, test_size=0.2, random_state=42)"
   ]
  },
  {
   "cell_type": "code",
   "execution_count": 15,
   "metadata": {},
   "outputs": [
    {
     "ename": "ValueError",
     "evalue": "could not convert string to float: 'Chesapeake, VA'",
     "output_type": "error",
     "traceback": [
      "\u001b[0;31m---------------------------------------------------------------------------\u001b[0m",
      "\u001b[0;31mValueError\u001b[0m                                Traceback (most recent call last)",
      "\u001b[0;32m/tmp/ipykernel_909654/1833620473.py\u001b[0m in \u001b[0;36m?\u001b[0;34m()\u001b[0m\n\u001b[1;32m      1\u001b[0m \u001b[0;31m# train a multi-layer perceptron model\u001b[0m\u001b[0;34m\u001b[0m\u001b[0;34m\u001b[0m\u001b[0m\n\u001b[1;32m      2\u001b[0m \u001b[0mmodel\u001b[0m \u001b[0;34m=\u001b[0m \u001b[0mMLPRegressor\u001b[0m\u001b[0;34m(\u001b[0m\u001b[0;34m[\u001b[0m\u001b[0;36m10\u001b[0m\u001b[0;34m,\u001b[0m \u001b[0;36m10\u001b[0m\u001b[0;34m,\u001b[0m \u001b[0;36m5\u001b[0m\u001b[0;34m]\u001b[0m\u001b[0;34m,\u001b[0m \u001b[0;34m'relu'\u001b[0m\u001b[0;34m)\u001b[0m\u001b[0;34m\u001b[0m\u001b[0;34m\u001b[0m\u001b[0m\n\u001b[0;32m----> 3\u001b[0;31m \u001b[0mmodel\u001b[0m\u001b[0;34m.\u001b[0m\u001b[0mfit\u001b[0m\u001b[0;34m(\u001b[0m\u001b[0mX_train\u001b[0m\u001b[0;34m,\u001b[0m \u001b[0my_train\u001b[0m\u001b[0;34m)\u001b[0m\u001b[0;34m\u001b[0m\u001b[0;34m\u001b[0m\u001b[0m\n\u001b[0m\u001b[1;32m      4\u001b[0m \u001b[0;34m\u001b[0m\u001b[0m\n\u001b[1;32m      5\u001b[0m \u001b[0;31m# predictions\u001b[0m\u001b[0;34m\u001b[0m\u001b[0;34m\u001b[0m\u001b[0m\n\u001b[1;32m      6\u001b[0m \u001b[0my_pred\u001b[0m \u001b[0;34m=\u001b[0m \u001b[0mmodel\u001b[0m\u001b[0;34m.\u001b[0m\u001b[0mpredict\u001b[0m\u001b[0;34m(\u001b[0m\u001b[0mX_test\u001b[0m\u001b[0;34m)\u001b[0m\u001b[0;34m\u001b[0m\u001b[0;34m\u001b[0m\u001b[0m\n",
      "\u001b[0;32m~/housing-prices/venv/lib/python3.10/site-packages/sklearn/base.py\u001b[0m in \u001b[0;36m?\u001b[0;34m(estimator, *args, **kwargs)\u001b[0m\n\u001b[1;32m   1470\u001b[0m                 skip_parameter_validation=(\n\u001b[1;32m   1471\u001b[0m                     \u001b[0mprefer_skip_nested_validation\u001b[0m \u001b[0;32mor\u001b[0m \u001b[0mglobal_skip_validation\u001b[0m\u001b[0;34m\u001b[0m\u001b[0;34m\u001b[0m\u001b[0m\n\u001b[1;32m   1472\u001b[0m                 )\n\u001b[1;32m   1473\u001b[0m             ):\n\u001b[0;32m-> 1474\u001b[0;31m                 \u001b[0;32mreturn\u001b[0m \u001b[0mfit_method\u001b[0m\u001b[0;34m(\u001b[0m\u001b[0mestimator\u001b[0m\u001b[0;34m,\u001b[0m \u001b[0;34m*\u001b[0m\u001b[0margs\u001b[0m\u001b[0;34m,\u001b[0m \u001b[0;34m**\u001b[0m\u001b[0mkwargs\u001b[0m\u001b[0;34m)\u001b[0m\u001b[0;34m\u001b[0m\u001b[0;34m\u001b[0m\u001b[0m\n\u001b[0m",
      "\u001b[0;32m~/housing-prices/venv/lib/python3.10/site-packages/sklearn/neural_network/_multilayer_perceptron.py\u001b[0m in \u001b[0;36m?\u001b[0;34m(self, X, y)\u001b[0m\n\u001b[1;32m    748\u001b[0m         \u001b[0;34m-\u001b[0m\u001b[0;34m-\u001b[0m\u001b[0;34m-\u001b[0m\u001b[0;34m-\u001b[0m\u001b[0;34m-\u001b[0m\u001b[0;34m-\u001b[0m\u001b[0;34m-\u001b[0m\u001b[0;34m\u001b[0m\u001b[0;34m\u001b[0m\u001b[0m\n\u001b[1;32m    749\u001b[0m         \u001b[0mself\u001b[0m \u001b[0;34m:\u001b[0m \u001b[0mobject\u001b[0m\u001b[0;34m\u001b[0m\u001b[0;34m\u001b[0m\u001b[0m\n\u001b[1;32m    750\u001b[0m             \u001b[0mReturns\u001b[0m \u001b[0ma\u001b[0m \u001b[0mtrained\u001b[0m \u001b[0mMLP\u001b[0m \u001b[0mmodel\u001b[0m\u001b[0;34m.\u001b[0m\u001b[0;34m\u001b[0m\u001b[0;34m\u001b[0m\u001b[0m\n\u001b[1;32m    751\u001b[0m         \"\"\"\n\u001b[0;32m--> 752\u001b[0;31m         \u001b[0;32mreturn\u001b[0m \u001b[0mself\u001b[0m\u001b[0;34m.\u001b[0m\u001b[0m_fit\u001b[0m\u001b[0;34m(\u001b[0m\u001b[0mX\u001b[0m\u001b[0;34m,\u001b[0m \u001b[0my\u001b[0m\u001b[0;34m,\u001b[0m \u001b[0mincremental\u001b[0m\u001b[0;34m=\u001b[0m\u001b[0;32mFalse\u001b[0m\u001b[0;34m)\u001b[0m\u001b[0;34m\u001b[0m\u001b[0;34m\u001b[0m\u001b[0m\n\u001b[0m",
      "\u001b[0;32m~/housing-prices/venv/lib/python3.10/site-packages/sklearn/neural_network/_multilayer_perceptron.py\u001b[0m in \u001b[0;36m?\u001b[0;34m(self, X, y, incremental)\u001b[0m\n\u001b[1;32m    438\u001b[0m         first_pass = not hasattr(self, \"coefs_\") or (\n\u001b[1;32m    439\u001b[0m             \u001b[0;32mnot\u001b[0m \u001b[0mself\u001b[0m\u001b[0;34m.\u001b[0m\u001b[0mwarm_start\u001b[0m \u001b[0;32mand\u001b[0m \u001b[0;32mnot\u001b[0m \u001b[0mincremental\u001b[0m\u001b[0;34m\u001b[0m\u001b[0;34m\u001b[0m\u001b[0m\n\u001b[1;32m    440\u001b[0m         )\n\u001b[1;32m    441\u001b[0m \u001b[0;34m\u001b[0m\u001b[0m\n\u001b[0;32m--> 442\u001b[0;31m         \u001b[0mX\u001b[0m\u001b[0;34m,\u001b[0m \u001b[0my\u001b[0m \u001b[0;34m=\u001b[0m \u001b[0mself\u001b[0m\u001b[0;34m.\u001b[0m\u001b[0m_validate_input\u001b[0m\u001b[0;34m(\u001b[0m\u001b[0mX\u001b[0m\u001b[0;34m,\u001b[0m \u001b[0my\u001b[0m\u001b[0;34m,\u001b[0m \u001b[0mincremental\u001b[0m\u001b[0;34m,\u001b[0m \u001b[0mreset\u001b[0m\u001b[0;34m=\u001b[0m\u001b[0mfirst_pass\u001b[0m\u001b[0;34m)\u001b[0m\u001b[0;34m\u001b[0m\u001b[0;34m\u001b[0m\u001b[0m\n\u001b[0m\u001b[1;32m    443\u001b[0m \u001b[0;34m\u001b[0m\u001b[0m\n\u001b[1;32m    444\u001b[0m         \u001b[0mn_samples\u001b[0m\u001b[0;34m,\u001b[0m \u001b[0mn_features\u001b[0m \u001b[0;34m=\u001b[0m \u001b[0mX\u001b[0m\u001b[0;34m.\u001b[0m\u001b[0mshape\u001b[0m\u001b[0;34m\u001b[0m\u001b[0;34m\u001b[0m\u001b[0m\n\u001b[1;32m    445\u001b[0m \u001b[0;34m\u001b[0m\u001b[0m\n",
      "\u001b[0;32m~/housing-prices/venv/lib/python3.10/site-packages/sklearn/neural_network/_multilayer_perceptron.py\u001b[0m in \u001b[0;36m?\u001b[0;34m(self, X, y, incremental, reset)\u001b[0m\n\u001b[1;32m   1613\u001b[0m     \u001b[0;32mdef\u001b[0m \u001b[0m_validate_input\u001b[0m\u001b[0;34m(\u001b[0m\u001b[0mself\u001b[0m\u001b[0;34m,\u001b[0m \u001b[0mX\u001b[0m\u001b[0;34m,\u001b[0m \u001b[0my\u001b[0m\u001b[0;34m,\u001b[0m \u001b[0mincremental\u001b[0m\u001b[0;34m,\u001b[0m \u001b[0mreset\u001b[0m\u001b[0;34m)\u001b[0m\u001b[0;34m:\u001b[0m\u001b[0;34m\u001b[0m\u001b[0;34m\u001b[0m\u001b[0m\n\u001b[0;32m-> 1614\u001b[0;31m         X, y = self._validate_data(\n\u001b[0m\u001b[1;32m   1615\u001b[0m             \u001b[0mX\u001b[0m\u001b[0;34m,\u001b[0m\u001b[0;34m\u001b[0m\u001b[0;34m\u001b[0m\u001b[0m\n\u001b[1;32m   1616\u001b[0m             \u001b[0my\u001b[0m\u001b[0;34m,\u001b[0m\u001b[0;34m\u001b[0m\u001b[0;34m\u001b[0m\u001b[0m\n\u001b[1;32m   1617\u001b[0m             \u001b[0maccept_sparse\u001b[0m\u001b[0;34m=\u001b[0m\u001b[0;34m[\u001b[0m\u001b[0;34m\"csr\"\u001b[0m\u001b[0;34m,\u001b[0m \u001b[0;34m\"csc\"\u001b[0m\u001b[0;34m]\u001b[0m\u001b[0;34m,\u001b[0m\u001b[0;34m\u001b[0m\u001b[0;34m\u001b[0m\u001b[0m\n",
      "\u001b[0;32m~/housing-prices/venv/lib/python3.10/site-packages/sklearn/base.py\u001b[0m in \u001b[0;36m?\u001b[0;34m(self, X, y, reset, validate_separately, cast_to_ndarray, **check_params)\u001b[0m\n\u001b[1;32m    646\u001b[0m                 \u001b[0;32mif\u001b[0m \u001b[0;34m\"estimator\"\u001b[0m \u001b[0;32mnot\u001b[0m \u001b[0;32min\u001b[0m \u001b[0mcheck_y_params\u001b[0m\u001b[0;34m:\u001b[0m\u001b[0;34m\u001b[0m\u001b[0;34m\u001b[0m\u001b[0m\n\u001b[1;32m    647\u001b[0m                     \u001b[0mcheck_y_params\u001b[0m \u001b[0;34m=\u001b[0m \u001b[0;34m{\u001b[0m\u001b[0;34m**\u001b[0m\u001b[0mdefault_check_params\u001b[0m\u001b[0;34m,\u001b[0m \u001b[0;34m**\u001b[0m\u001b[0mcheck_y_params\u001b[0m\u001b[0;34m}\u001b[0m\u001b[0;34m\u001b[0m\u001b[0;34m\u001b[0m\u001b[0m\n\u001b[1;32m    648\u001b[0m                 \u001b[0my\u001b[0m \u001b[0;34m=\u001b[0m \u001b[0mcheck_array\u001b[0m\u001b[0;34m(\u001b[0m\u001b[0my\u001b[0m\u001b[0;34m,\u001b[0m \u001b[0minput_name\u001b[0m\u001b[0;34m=\u001b[0m\u001b[0;34m\"y\"\u001b[0m\u001b[0;34m,\u001b[0m \u001b[0;34m**\u001b[0m\u001b[0mcheck_y_params\u001b[0m\u001b[0;34m)\u001b[0m\u001b[0;34m\u001b[0m\u001b[0;34m\u001b[0m\u001b[0m\n\u001b[1;32m    649\u001b[0m             \u001b[0;32melse\u001b[0m\u001b[0;34m:\u001b[0m\u001b[0;34m\u001b[0m\u001b[0;34m\u001b[0m\u001b[0m\n\u001b[0;32m--> 650\u001b[0;31m                 \u001b[0mX\u001b[0m\u001b[0;34m,\u001b[0m \u001b[0my\u001b[0m \u001b[0;34m=\u001b[0m \u001b[0mcheck_X_y\u001b[0m\u001b[0;34m(\u001b[0m\u001b[0mX\u001b[0m\u001b[0;34m,\u001b[0m \u001b[0my\u001b[0m\u001b[0;34m,\u001b[0m \u001b[0;34m**\u001b[0m\u001b[0mcheck_params\u001b[0m\u001b[0;34m)\u001b[0m\u001b[0;34m\u001b[0m\u001b[0;34m\u001b[0m\u001b[0m\n\u001b[0m\u001b[1;32m    651\u001b[0m             \u001b[0mout\u001b[0m \u001b[0;34m=\u001b[0m \u001b[0mX\u001b[0m\u001b[0;34m,\u001b[0m \u001b[0my\u001b[0m\u001b[0;34m\u001b[0m\u001b[0;34m\u001b[0m\u001b[0m\n\u001b[1;32m    652\u001b[0m \u001b[0;34m\u001b[0m\u001b[0m\n\u001b[1;32m    653\u001b[0m         \u001b[0;32mif\u001b[0m \u001b[0;32mnot\u001b[0m \u001b[0mno_val_X\u001b[0m \u001b[0;32mand\u001b[0m \u001b[0mcheck_params\u001b[0m\u001b[0;34m.\u001b[0m\u001b[0mget\u001b[0m\u001b[0;34m(\u001b[0m\u001b[0;34m\"ensure_2d\"\u001b[0m\u001b[0;34m,\u001b[0m \u001b[0;32mTrue\u001b[0m\u001b[0;34m)\u001b[0m\u001b[0;34m:\u001b[0m\u001b[0;34m\u001b[0m\u001b[0;34m\u001b[0m\u001b[0m\n",
      "\u001b[0;32m~/housing-prices/venv/lib/python3.10/site-packages/sklearn/utils/validation.py\u001b[0m in \u001b[0;36m?\u001b[0;34m(X, y, accept_sparse, accept_large_sparse, dtype, order, copy, force_all_finite, ensure_2d, allow_nd, multi_output, ensure_min_samples, ensure_min_features, y_numeric, estimator)\u001b[0m\n\u001b[1;32m   1259\u001b[0m         raise ValueError(\n\u001b[1;32m   1260\u001b[0m             \u001b[0;34mf\"{estimator_name} requires y to be passed, but the target y is None\"\u001b[0m\u001b[0;34m\u001b[0m\u001b[0;34m\u001b[0m\u001b[0m\n\u001b[1;32m   1261\u001b[0m         )\n\u001b[1;32m   1262\u001b[0m \u001b[0;34m\u001b[0m\u001b[0m\n\u001b[0;32m-> 1263\u001b[0;31m     X = check_array(\n\u001b[0m\u001b[1;32m   1264\u001b[0m         \u001b[0mX\u001b[0m\u001b[0;34m,\u001b[0m\u001b[0;34m\u001b[0m\u001b[0;34m\u001b[0m\u001b[0m\n\u001b[1;32m   1265\u001b[0m         \u001b[0maccept_sparse\u001b[0m\u001b[0;34m=\u001b[0m\u001b[0maccept_sparse\u001b[0m\u001b[0;34m,\u001b[0m\u001b[0;34m\u001b[0m\u001b[0;34m\u001b[0m\u001b[0m\n\u001b[1;32m   1266\u001b[0m         \u001b[0maccept_large_sparse\u001b[0m\u001b[0;34m=\u001b[0m\u001b[0maccept_large_sparse\u001b[0m\u001b[0;34m,\u001b[0m\u001b[0;34m\u001b[0m\u001b[0;34m\u001b[0m\u001b[0m\n",
      "\u001b[0;32m~/housing-prices/venv/lib/python3.10/site-packages/sklearn/utils/validation.py\u001b[0m in \u001b[0;36m?\u001b[0;34m(array, accept_sparse, accept_large_sparse, dtype, order, copy, force_all_finite, ensure_2d, allow_nd, ensure_min_samples, ensure_min_features, estimator, input_name)\u001b[0m\n\u001b[1;32m    994\u001b[0m                         )\n\u001b[1;32m    995\u001b[0m                     \u001b[0marray\u001b[0m \u001b[0;34m=\u001b[0m \u001b[0mxp\u001b[0m\u001b[0;34m.\u001b[0m\u001b[0mastype\u001b[0m\u001b[0;34m(\u001b[0m\u001b[0marray\u001b[0m\u001b[0;34m,\u001b[0m \u001b[0mdtype\u001b[0m\u001b[0;34m,\u001b[0m \u001b[0mcopy\u001b[0m\u001b[0;34m=\u001b[0m\u001b[0;32mFalse\u001b[0m\u001b[0;34m)\u001b[0m\u001b[0;34m\u001b[0m\u001b[0;34m\u001b[0m\u001b[0m\n\u001b[1;32m    996\u001b[0m                 \u001b[0;32melse\u001b[0m\u001b[0;34m:\u001b[0m\u001b[0;34m\u001b[0m\u001b[0;34m\u001b[0m\u001b[0m\n\u001b[1;32m    997\u001b[0m                     \u001b[0marray\u001b[0m \u001b[0;34m=\u001b[0m \u001b[0m_asarray_with_order\u001b[0m\u001b[0;34m(\u001b[0m\u001b[0marray\u001b[0m\u001b[0;34m,\u001b[0m \u001b[0morder\u001b[0m\u001b[0;34m=\u001b[0m\u001b[0morder\u001b[0m\u001b[0;34m,\u001b[0m \u001b[0mdtype\u001b[0m\u001b[0;34m=\u001b[0m\u001b[0mdtype\u001b[0m\u001b[0;34m,\u001b[0m \u001b[0mxp\u001b[0m\u001b[0;34m=\u001b[0m\u001b[0mxp\u001b[0m\u001b[0;34m)\u001b[0m\u001b[0;34m\u001b[0m\u001b[0;34m\u001b[0m\u001b[0m\n\u001b[0;32m--> 998\u001b[0;31m             \u001b[0;32mexcept\u001b[0m \u001b[0mComplexWarning\u001b[0m \u001b[0;32mas\u001b[0m \u001b[0mcomplex_warning\u001b[0m\u001b[0;34m:\u001b[0m\u001b[0;34m\u001b[0m\u001b[0;34m\u001b[0m\u001b[0m\n\u001b[0m\u001b[1;32m    999\u001b[0m                 raise ValueError(\n\u001b[1;32m   1000\u001b[0m                     \u001b[0;34m\"Complex data not supported\\n{}\\n\"\u001b[0m\u001b[0;34m.\u001b[0m\u001b[0mformat\u001b[0m\u001b[0;34m(\u001b[0m\u001b[0marray\u001b[0m\u001b[0;34m)\u001b[0m\u001b[0;34m\u001b[0m\u001b[0;34m\u001b[0m\u001b[0m\n\u001b[1;32m   1001\u001b[0m                 ) from complex_warning\n",
      "\u001b[0;32m~/housing-prices/venv/lib/python3.10/site-packages/sklearn/utils/_array_api.py\u001b[0m in \u001b[0;36m?\u001b[0;34m(array, dtype, order, copy, xp)\u001b[0m\n\u001b[1;32m    517\u001b[0m         \u001b[0;31m# Use NumPy API to support order\u001b[0m\u001b[0;34m\u001b[0m\u001b[0;34m\u001b[0m\u001b[0m\n\u001b[1;32m    518\u001b[0m         \u001b[0;32mif\u001b[0m \u001b[0mcopy\u001b[0m \u001b[0;32mis\u001b[0m \u001b[0;32mTrue\u001b[0m\u001b[0;34m:\u001b[0m\u001b[0;34m\u001b[0m\u001b[0;34m\u001b[0m\u001b[0m\n\u001b[1;32m    519\u001b[0m             \u001b[0marray\u001b[0m \u001b[0;34m=\u001b[0m \u001b[0mnumpy\u001b[0m\u001b[0;34m.\u001b[0m\u001b[0marray\u001b[0m\u001b[0;34m(\u001b[0m\u001b[0marray\u001b[0m\u001b[0;34m,\u001b[0m \u001b[0morder\u001b[0m\u001b[0;34m=\u001b[0m\u001b[0morder\u001b[0m\u001b[0;34m,\u001b[0m \u001b[0mdtype\u001b[0m\u001b[0;34m=\u001b[0m\u001b[0mdtype\u001b[0m\u001b[0;34m)\u001b[0m\u001b[0;34m\u001b[0m\u001b[0;34m\u001b[0m\u001b[0m\n\u001b[1;32m    520\u001b[0m         \u001b[0;32melse\u001b[0m\u001b[0;34m:\u001b[0m\u001b[0;34m\u001b[0m\u001b[0;34m\u001b[0m\u001b[0m\n\u001b[0;32m--> 521\u001b[0;31m             \u001b[0marray\u001b[0m \u001b[0;34m=\u001b[0m \u001b[0mnumpy\u001b[0m\u001b[0;34m.\u001b[0m\u001b[0masarray\u001b[0m\u001b[0;34m(\u001b[0m\u001b[0marray\u001b[0m\u001b[0;34m,\u001b[0m \u001b[0morder\u001b[0m\u001b[0;34m=\u001b[0m\u001b[0morder\u001b[0m\u001b[0;34m,\u001b[0m \u001b[0mdtype\u001b[0m\u001b[0;34m=\u001b[0m\u001b[0mdtype\u001b[0m\u001b[0;34m)\u001b[0m\u001b[0;34m\u001b[0m\u001b[0;34m\u001b[0m\u001b[0m\n\u001b[0m\u001b[1;32m    522\u001b[0m \u001b[0;34m\u001b[0m\u001b[0m\n\u001b[1;32m    523\u001b[0m         \u001b[0;31m# At this point array is a NumPy ndarray. We convert it to an array\u001b[0m\u001b[0;34m\u001b[0m\u001b[0;34m\u001b[0m\u001b[0m\n\u001b[1;32m    524\u001b[0m         \u001b[0;31m# container that is consistent with the input's namespace.\u001b[0m\u001b[0;34m\u001b[0m\u001b[0;34m\u001b[0m\u001b[0m\n",
      "\u001b[0;32m~/housing-prices/venv/lib/python3.10/site-packages/pandas/core/generic.py\u001b[0m in \u001b[0;36m?\u001b[0;34m(self, dtype)\u001b[0m\n\u001b[1;32m   2148\u001b[0m     \u001b[0;32mdef\u001b[0m \u001b[0m__array__\u001b[0m\u001b[0;34m(\u001b[0m\u001b[0mself\u001b[0m\u001b[0;34m,\u001b[0m \u001b[0mdtype\u001b[0m\u001b[0;34m:\u001b[0m \u001b[0mnpt\u001b[0m\u001b[0;34m.\u001b[0m\u001b[0mDTypeLike\u001b[0m \u001b[0;34m|\u001b[0m \u001b[0;32mNone\u001b[0m \u001b[0;34m=\u001b[0m \u001b[0;32mNone\u001b[0m\u001b[0;34m)\u001b[0m \u001b[0;34m->\u001b[0m \u001b[0mnp\u001b[0m\u001b[0;34m.\u001b[0m\u001b[0mndarray\u001b[0m\u001b[0;34m:\u001b[0m\u001b[0;34m\u001b[0m\u001b[0;34m\u001b[0m\u001b[0m\n\u001b[1;32m   2149\u001b[0m         \u001b[0mvalues\u001b[0m \u001b[0;34m=\u001b[0m \u001b[0mself\u001b[0m\u001b[0;34m.\u001b[0m\u001b[0m_values\u001b[0m\u001b[0;34m\u001b[0m\u001b[0;34m\u001b[0m\u001b[0m\n\u001b[0;32m-> 2150\u001b[0;31m         \u001b[0marr\u001b[0m \u001b[0;34m=\u001b[0m \u001b[0mnp\u001b[0m\u001b[0;34m.\u001b[0m\u001b[0masarray\u001b[0m\u001b[0;34m(\u001b[0m\u001b[0mvalues\u001b[0m\u001b[0;34m,\u001b[0m \u001b[0mdtype\u001b[0m\u001b[0;34m=\u001b[0m\u001b[0mdtype\u001b[0m\u001b[0;34m)\u001b[0m\u001b[0;34m\u001b[0m\u001b[0;34m\u001b[0m\u001b[0m\n\u001b[0m\u001b[1;32m   2151\u001b[0m         if (\n\u001b[1;32m   2152\u001b[0m             \u001b[0mastype_is_view\u001b[0m\u001b[0;34m(\u001b[0m\u001b[0mvalues\u001b[0m\u001b[0;34m.\u001b[0m\u001b[0mdtype\u001b[0m\u001b[0;34m,\u001b[0m \u001b[0marr\u001b[0m\u001b[0;34m.\u001b[0m\u001b[0mdtype\u001b[0m\u001b[0;34m)\u001b[0m\u001b[0;34m\u001b[0m\u001b[0;34m\u001b[0m\u001b[0m\n\u001b[1;32m   2153\u001b[0m             \u001b[0;32mand\u001b[0m \u001b[0musing_copy_on_write\u001b[0m\u001b[0;34m(\u001b[0m\u001b[0;34m)\u001b[0m\u001b[0;34m\u001b[0m\u001b[0;34m\u001b[0m\u001b[0m\n",
      "\u001b[0;31mValueError\u001b[0m: could not convert string to float: 'Chesapeake, VA'"
     ]
    },
    {
     "ename": "",
     "evalue": "",
     "output_type": "error",
     "traceback": [
      "\u001b[1;31mThe Kernel crashed while executing code in the current cell or a previous cell. \n",
      "\u001b[1;31mPlease review the code in the cell(s) to identify a possible cause of the failure. \n",
      "\u001b[1;31mClick <a href='https://aka.ms/vscodeJupyterKernelCrash'>here</a> for more info. \n",
      "\u001b[1;31mView Jupyter <a href='command:jupyter.viewOutput'>log</a> for further details."
     ]
    }
   ],
   "source": [
    "# train a multi-layer perceptron model\n",
    "model = MLPRegressor([10, 10, 5], 'relu')\n",
    "model.fit(X_train, y_train)\n",
    "\n",
    "# predictions\n",
    "y_pred = model.predict(X_test)\n",
    "\n",
    "# test the accuracy of the model\n",
    "mse = mean_squared_error(y_test, y_pred)\n",
    "print('MSE:', mse)"
   ]
  },
  {
   "cell_type": "code",
   "execution_count": null,
   "metadata": {},
   "outputs": [],
   "source": [
    "# Train the Gaussian NB model\n",
    "model = GaussianNB()\n",
    "model.fit(X_train, y_train)\n",
    "\n",
    "# Predictions\n",
    "y_pred = model.predict(X_test)\n",
    "\n",
    "# Evaluate the model\n",
    "accuracy = accuracy_score(y_test, y_pred)\n",
    "print(\"Accuracy:\", accuracy)"
   ]
  },
  {
   "cell_type": "code",
   "execution_count": null,
   "metadata": {},
   "outputs": [],
   "source": [
    "import numpy as np\n",
    "import pandas as pd\n",
    "from sklearn.model_selection import train_test_split\n",
    "from sklearn.preprocessing import StandardScaler\n",
    "import tensorflow as tf\n",
    "from tensorflow.keras.models import Sequential\n",
    "from tensorflow.keras.layers import Dense\n",
    "\n",
    "\n",
    "# Split features and target variable\n",
    "X = df[['city', 'rooms', 'bathrooms', 'sqft', 'apartment_or_house']]\n",
    "y = df['price']\n",
    "\n",
    "# Split data into train and test sets\n",
    "X_train, X_test, y_train, y_test = train_test_split(X, y, test_size=0.2, random_state=42)\n",
    "\n",
    "# Standardize features\n",
    "scaler = StandardScaler()\n",
    "X_train_scaled = scaler.fit_transform(X_train)\n",
    "X_test_scaled = scaler.transform(X_test)\n",
    "\n",
    "# Build the neural network model\n",
    "model = Sequential([\n",
    "    Dense(64, activation='relu', input_shape=(X_train_scaled.shape[1],)),\n",
    "    Dense(64, activation='relu'),\n",
    "    Dense(1)  # Output layer for regression\n",
    "])\n",
    "\n",
    "# Compile the model\n",
    "model.compile(optimizer='adam', loss='mean_squared_error')\n",
    "\n",
    "# Train the model\n",
    "history = model.fit(X_train_scaled, y_train, epochs=50, batch_size=32, validation_split=0.2, verbose=1)\n",
    "\n",
    "# Evaluate the model\n",
    "y_pred = model.predict(X_test_scaled)\n",
    "mse = mean_squared_error(y_test, y_pred)\n",
    "print(\"Mean Squared Error:\", mse)\n"
   ]
  }
 ],
 "metadata": {
  "kernelspec": {
   "display_name": "Python 3",
   "language": "python",
   "name": "python3"
  },
  "language_info": {
   "codemirror_mode": {
    "name": "ipython",
    "version": 3
   },
   "file_extension": ".py",
   "mimetype": "text/x-python",
   "name": "python",
   "nbconvert_exporter": "python",
   "pygments_lexer": "ipython3",
   "version": "3.10.12"
  }
 },
 "nbformat": 4,
 "nbformat_minor": 2
}
